# Example Jupyter Notebook Cell

# Taking inputs
name = input("Enter your name: ")
number = int(input("Enter a number: "))

# Doing Something™ with the inputs
result = number * 2
print(f"Hello, {name}! Your number doubled is {result}.")
